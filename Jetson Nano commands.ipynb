{
 "cells": [
  {
   "cell_type": "code",
   "execution_count": null,
   "metadata": {},
   "outputs": [],
   "source": [
    "#In terminal of jetson nano install python and pip\n",
    "#sudo apt-get install python3-pip"
   ]
  },
  {
   "cell_type": "code",
   "execution_count": null,
   "metadata": {},
   "outputs": [],
   "source": [
    "#control servo motors library via PCA9685\n",
    "#sudo pip3 install adafruit-circuitpython-servokit\n",
    "\n",
    "#some more settings\n",
    "#sudo usermod -aG i2c pjm\n",
    "#sudo groupadd -f -r gpio\n",
    "#sudo usermod -a -G gpio pjm\n",
    "#sudo cp /opt/nvidia/jetson-gpio/etc/99-gpio.rules /etc/udev/rules.d/\n",
    "#sudo udevadm control --reload-rules && sudo udevadm trigger\n",
    "#sudo reboot now\n",
    "\n",
    "\n",
    "#after reboot\n",
    "#sudo i2cdetect -y -r l"
   ]
  },
  {
   "cell_type": "code",
   "execution_count": null,
   "metadata": {},
   "outputs": [],
   "source": [
    "#try this link to set up config for PWM\n",
    "#https://www.youtube.com/watch?v=eImDQ0PVu2Y&list=PLGs0VKk2DiYxP-ElZ7-QXIERFFPkOuP4_&index=59\n",
    "\n",
    "import RPi.GPIO as GPIO\n",
    "GPIO.setmode(GPIO.BOARD)\n",
    "\n",
    "GPIO.setup(33,GPIO.OUT)\n",
    "my_pwm = GPIO.PWM(33,100)\n",
    "my_pwm.start(5)\n",
    "my_pwm.ChangeDutyCycle(1)\n",
    "my_pwm.ChangeDutyCycle(99)\n",
    "\n",
    "#in case any errors come do\n",
    "#sudo reboot"
   ]
  },
  {
   "cell_type": "code",
   "execution_count": null,
   "metadata": {},
   "outputs": [],
   "source": []
  },
  {
   "cell_type": "code",
   "execution_count": null,
   "metadata": {},
   "outputs": [],
   "source": []
  },
  {
   "cell_type": "code",
   "execution_count": null,
   "metadata": {},
   "outputs": [],
   "source": [
    "#in servoControl.py file\n",
    "from adafruit_servokit import ServoKit\n",
    "myKit = ServoKit(channels=16)\n",
    "myKit.servo[0].angle = 0 #will change motor's movement on running program\n",
    "myKit.servo[0].angle = 180 #will change motor's movement on running program\n",
    "myKit.servo[0].angle = 0 #will change motor's movement on running\n"
   ]
  },
  {
   "cell_type": "code",
   "execution_count": null,
   "metadata": {},
   "outputs": [],
   "source": [
    "#in servoControl.py file\n",
    "import time\n",
    "from adafruit_servokit import ServoKit\n",
    "myKit = ServoKit(channels=16)\n",
    "#will rotate the motor\n",
    "for i in range(0,180,1):\n",
    "    myKit.servo[0].angle=i\n",
    "    time.sleep(.1)\n",
    "    \n",
    "for i in range(180,0,-1):\n",
    "    myKit.servo[0].angle=i\n",
    "    time.sleep(.1)\n"
   ]
  },
  {
   "cell_type": "code",
   "execution_count": null,
   "metadata": {},
   "outputs": [],
   "source": [
    "#Pins are named alternatively on jetson nano. Odd pins are outward. Even pins are inward"
   ]
  },
  {
   "cell_type": "code",
   "execution_count": null,
   "metadata": {},
   "outputs": [],
   "source": [
    "## TAKING INPUTS"
   ]
  },
  {
   "cell_type": "code",
   "execution_count": null,
   "metadata": {},
   "outputs": [],
   "source": [
    "#importing library for talking to board. RPi library works fine with  jetson nano as well\n",
    "import RPi.GPIO as GPIO\n",
    "\n",
    "#sets jetson nano board configuration of pins as default\n",
    "GPIO.setmode(GPIO.BOARD)\n",
    "\n",
    "#accepting input at pin 15 on jetson nano\n",
    "GPIO.setup(15,GPIO.IN)\n",
    "\n",
    "#setting variable x as input for pin 15\n",
    "x = GPIO.input(15)\n",
    "\n",
    "#outputting x will give 0/1 depending on weather the input is ON OR OFF\n",
    "#x\n",
    "\n",
    "#Will clear 15th pin's configuration. i.e pin 15 will no more accept any input\n",
    "GPIO.cleanup(15)\n",
    "\n",
    "#will clear the complete board. Like a reset button\n",
    "GPIO.cleanup()"
   ]
  },
  {
   "cell_type": "code",
   "execution_count": null,
   "metadata": {},
   "outputs": [],
   "source": [
    "## OUTPUTS"
   ]
  },
  {
   "cell_type": "code",
   "execution_count": null,
   "metadata": {},
   "outputs": [],
   "source": [
    "#importing library for talking to board. RPi library works fine with  jetson nano as well\n",
    "import RPi.GPIO as GPIO\n",
    "\n",
    "#sets jetson nano board configuration of pins as default\n",
    "GPIO.setmode(GPIO.BOARD)\n",
    "\n",
    "## difference\n",
    "#sending output via pin 7 on jetson nano\n",
    "GPIO.setup(7,GPIO.OUT)\n",
    "\n",
    "#Will set output as true\n",
    "GPIO.output(7,True)\n",
    "\n",
    "#Will set output as false\n",
    "GPIO.output(7,False)\n",
    "\n",
    "#Will clear 7th pin's configuration. i.e pin 15 will no more accept any input\n",
    "GPIO.cleanup(7)\n",
    "\n",
    "#will clear the complete board. Like a reset button\n",
    "GPIO.cleanup()"
   ]
  }
 ],
 "metadata": {
  "kernelspec": {
   "display_name": "Python 3",
   "language": "python",
   "name": "python3"
  },
  "language_info": {
   "codemirror_mode": {
    "name": "ipython",
    "version": 3
   },
   "file_extension": ".py",
   "mimetype": "text/x-python",
   "name": "python",
   "nbconvert_exporter": "python",
   "pygments_lexer": "ipython3",
   "version": "3.7.6"
  }
 },
 "nbformat": 4,
 "nbformat_minor": 4
}
